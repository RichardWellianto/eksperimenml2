{
 "cells": [
  {
   "cell_type": "code",
   "execution_count": 69,
   "metadata": {},
   "outputs": [],
   "source": [
    "import numpy as np\n",
    "import csv\n",
    "\n",
    "#LOAD DATA CSV menjadi array of dataset dan array of label\n",
    "def load_csv(filename):\n",
    "    with open(filename) as csv_file:\n",
    "        csv_reader = csv.reader(csv_file, delimiter=\",\")\n",
    "        line_count = 0\n",
    "        #MAKE DUMMY ARRAY\n",
    "        X = np.zeros((1,13))\n",
    "        label = np.array(None)\n",
    "        for row in csv_reader:\n",
    "            if line_count == 0:\n",
    "                #NOT USING THE COLUMN NAMES\n",
    "#                print(f'Column names are {\", \".join(row)}')\n",
    "                line_count += 1\n",
    "            else:\n",
    "                #ADD ELEMENT AND LABEL TO ARRAY\n",
    "                line = np.empty(0)\n",
    "                for i in range(13):\n",
    "                    if row[i] == \"?\":\n",
    "                        line = np.append(line, None)\n",
    "                    else:\n",
    "                        line = np.append(line, row[i])\n",
    "                X = np.append(X, np.array([line]), axis=0)\n",
    "                label = np.append(label, row[13])\n",
    "                line_count += 1\n",
    "        #REMOVE DUMMY ELEMENT\n",
    "        X = np.delete(X, 0, 0)\n",
    "        label = np.delete(label, 0)\n",
    "    return X, label\n",
    "\n",
    "def sort_X(X):\n",
    "    arr = [[] for i in range(len(X[0]))]\n",
    "    for i in range(len(X)):\n",
    "        for j in range(len(X[i])):\n",
    "            if X[i][j] != None:\n",
    "                arr[j].append(X[i][j])\n",
    "    for i in range(len(X[0])):\n",
    "        arr[i].sort()\n",
    "    return arr\n",
    "\n",
    "def exchange_question_mark(X, arr):\n",
    "    for i in range(len(X)):\n",
    "        for j in range(len(X[i])):\n",
    "            if X[i][j] == None:\n",
    "                X[i][j] = arr[j][len(arr[j])//2]\n",
    "    return X\n",
    "\n",
    "def normalize(X):\n",
    "    for i in range(len(X)):\n",
    "        for j in range(len(X[i])):\n",
    "            if j == 0:\n",
    "                X[i][j] = float(X[i][j]) / 50\n",
    "            elif j == 3:\n",
    "                X[i][j] = float(X[i][j]) / 100\n",
    "            elif j == 4:\n",
    "                X[i][j] = float(X[i][j]) / 100\n",
    "            elif j == 7:\n",
    "                X[i][j] = float(X[i][j]) / 100\n",
    "    return X\n",
    "\n",
    "X1, label1 = load_csv('train.csv')\n",
    "arr1 = sort_X(X1)\n",
    "X1 = exchange_question_mark(X1, arr1)\n",
    "X1 = normalize(X1)"
   ]
  },
  {
   "cell_type": "code",
   "execution_count": 70,
   "metadata": {},
   "outputs": [],
   "source": [
    "X2, label2 = load_csv('train.csv')\n",
    "X3, label3 = load_csv('test.csv')\n",
    "X2 = np.append(X2, X3, axis=0)\n",
    "label2 = np.append(label2, label3)\n",
    "arr2 = sort_X(X2)\n",
    "X2 = exchange_question_mark(X2, arr2)"
   ]
  },
  {
   "cell_type": "code",
   "execution_count": 71,
   "metadata": {},
   "outputs": [
    {
     "name": "stdout",
     "output_type": "stream",
     "text": [
      "[1 1 1 ... 1 1 1]\n",
      "[0 0 0 ... 0 0 0]\n"
     ]
    }
   ],
   "source": [
    "from sklearn.cluster import AgglomerativeClustering\n",
    "clustering_model_1 = AgglomerativeClustering(linkage='single').fit(X1)\n",
    "clustering_model_2 = AgglomerativeClustering(linkage='single').fit(X2)\n",
    "print(clustering_model_1.labels_)\n",
    "print(clustering_model_2.labels_)"
   ]
  },
  {
   "cell_type": "code",
   "execution_count": 72,
   "metadata": {},
   "outputs": [
    {
     "name": "stdout",
     "output_type": "stream",
     "text": [
      "0.8333333333333334\n",
      "0.8238944918541505\n"
     ]
    }
   ],
   "source": [
    "#ASUMSI labelclust dan label ukuran sama\n",
    "def purity(labelclust, label):\n",
    "    labelmap = {}\n",
    "    summax = 0\n",
    "    for i in range(len(labelclust)):\n",
    "        if labelclust[i] not in labelmap.keys():\n",
    "            labelmap[labelclust[i]] = {}\n",
    "        if label[i] not in labelmap[labelclust[i]].keys():\n",
    "            labelmap[labelclust[i]][label[i]] = 1\n",
    "        else:\n",
    "            labelmap[labelclust[i]][label[i]] += 1\n",
    "    for el in labelmap.keys():\n",
    "        summax += max(labelmap[el].values())\n",
    "    return summax/len(labelclust)\n",
    "                \n",
    "print(purity(clustering_model_1.labels_, label))\n",
    "print(purity(clustering_model_2.labels_, label2))"
   ]
  },
  {
   "cell_type": "code",
   "execution_count": 73,
   "metadata": {},
   "outputs": [
    {
     "name": "stdout",
     "output_type": "stream",
     "text": [
      "0.8925\n",
      "0.8231186966640807\n"
     ]
    }
   ],
   "source": [
    "from sklearn.cluster import DBSCAN\n",
    "clustering_DBSCAN_model_1 = DBSCAN().fit(X1)\n",
    "clustering_DBSCAN_model_2 = DBSCAN().fit(X2)\n",
    "print(purity(clustering_DBSCAN_model_1.labels_, label))\n",
    "print(purity(clustering_DBSCAN_model_2.labels_, label2))"
   ]
  },
  {
   "cell_type": "code",
   "execution_count": null,
   "metadata": {},
   "outputs": [],
   "source": []
  }
 ],
 "metadata": {
  "kernelspec": {
   "display_name": "Python 3",
   "language": "python",
   "name": "python3"
  },
  "language_info": {
   "codemirror_mode": {
    "name": "ipython",
    "version": 3
   },
   "file_extension": ".py",
   "mimetype": "text/x-python",
   "name": "python",
   "nbconvert_exporter": "python",
   "pygments_lexer": "ipython3",
   "version": "3.7.4"
  }
 },
 "nbformat": 4,
 "nbformat_minor": 2
}
