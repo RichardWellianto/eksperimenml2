{
 "cells": [
  {
   "cell_type": "code",
   "execution_count": 20,
   "metadata": {},
   "outputs": [
    {
     "name": "stdout",
     "output_type": "stream",
     "text": [
      "[[1.0408163265306123 '0' 1.0 ... '2' '0' '6']\n",
      " [1.1020408163265305 '1' 1.3333333333333333 ... '2' '0' '6']\n",
      " [0.9795918367346939 '1' 0.6666666666666666 ... '2' '0' '6']\n",
      " ...\n",
      " [0.6326530612244898 '1' 1.3333333333333333 ... '2' '0' '6']\n",
      " [0.9591836734693877 '1' 0.6666666666666666 ... '2' '0' '6']\n",
      " [1.0204081632653061 '1' 1.3333333333333333 ... '2' '0' '6']]\n"
     ]
    }
   ],
   "source": [
    "import numpy as np\n",
    "import csv\n",
    "\n",
    "#LOAD DATA CSV menjadi array of dataset dan array of label\n",
    "def load_csv(filename):\n",
    "    with open(filename) as csv_file:\n",
    "        csv_reader = csv.reader(csv_file, delimiter=\",\")\n",
    "        line_count = 0\n",
    "        #MAKE DUMMY ARRAY\n",
    "        X = np.zeros((1,13))\n",
    "        label = np.array(None)\n",
    "        for row in csv_reader:\n",
    "            if line_count == 0:\n",
    "                #NOT USING THE COLUMN NAMES\n",
    "#                print(f'Column names are {\", \".join(row)}')\n",
    "                line_count += 1\n",
    "            else:\n",
    "                #ADD ELEMENT AND LABEL TO ARRAY\n",
    "                line = np.empty(0)\n",
    "                for i in range(13):\n",
    "                    if row[i] == \"?\":\n",
    "                        line = np.append(line, None)\n",
    "                    else:\n",
    "                        line = np.append(line, row[i])\n",
    "                X = np.append(X, np.array([line]), axis=0)\n",
    "                label = np.append(label, row[13])\n",
    "                line_count += 1\n",
    "        #REMOVE DUMMY ELEMENT\n",
    "        X = np.delete(X, 0, 0)\n",
    "        label = np.delete(label, 0)\n",
    "    return X, label\n",
    "\n",
    "def sort_X(X):\n",
    "    arr = [[] for i in range(len(X[0]))]\n",
    "    for i in range(len(X)):\n",
    "        for j in range(len(X[i])):\n",
    "            if X[i][j] != None:\n",
    "                arr[j].append(X[i][j])\n",
    "    for i in range(len(X[0])):\n",
    "        arr[i].sort()\n",
    "    return arr\n",
    "\n",
    "def exchange_question_mark(X, arr):\n",
    "    for i in range(len(X)):\n",
    "        for j in range(len(X[i])):\n",
    "            if X[i][j] == None:\n",
    "                X[i][j] = arr[j][len(arr[j])//2]\n",
    "    return X\n",
    "\n",
    "def normalize(X, arr):\n",
    "    for i in range(len(X)):\n",
    "        for j in range(len(X[i])):\n",
    "            #Age\n",
    "            if j == 0:\n",
    "                X[i][j] = float(X[i][j]) / float(arr[j][len(arr[j])//2])\n",
    "            #Cp\n",
    "            elif j == 2:\n",
    "                X[i][j] = float(X[i][j]) / float(arr[j][len(arr[j])//2])\n",
    "            #Trestbps\n",
    "            elif j == 3:\n",
    "                X[i][j] = float(X[i][j]) / float(arr[j][len(arr[j])//2])\n",
    "            #Chol\n",
    "            elif j == 4:\n",
    "                X[i][j] = float(X[i][j]) / float(arr[j][len(arr[j])//2])\n",
    "            #Thalach\n",
    "            elif j == 7:\n",
    "                X[i][j] = float(X[i][j]) / float(arr[j][len(arr[j])//2])\n",
    "            #Thal\n",
    "            elif j == 12:\n",
    "                X[i][j] = float(X[i][j]) / float(arr[j][len(arr[j])//2])\n",
    "    return X\n",
    "\n",
    "X1, label1 = load_csv('train.csv')\n",
    "arr1 = sort_X(X1)\n",
    "X1 = exchange_question_mark(X1, arr1)\n",
    "X1 = normalize(X1, arr1)"
   ]
  },
  {
   "cell_type": "code",
   "execution_count": 16,
   "metadata": {},
   "outputs": [],
   "source": [
    "X2, label2 = load_csv('train.csv')\n",
    "X3, label3 = load_csv('test.csv')\n",
    "X2 = np.append(X2, X3, axis=0)\n",
    "label2 = np.append(label2, label3)\n",
    "arr2 = sort_X(X2)\n",
    "X2 = exchange_question_mark(X2, arr2)\n",
    "X2 = normalize(X2, arr2)"
   ]
  },
  {
   "cell_type": "code",
   "execution_count": 17,
   "metadata": {},
   "outputs": [
    {
     "name": "stdout",
     "output_type": "stream",
     "text": [
      "[0 0 0 ... 0 0 0]\n",
      "[0 0 0 ... 0 0 0]\n"
     ]
    }
   ],
   "source": [
    "from sklearn.cluster import AgglomerativeClustering\n",
    "clustering_model_1 = AgglomerativeClustering(linkage='complete').fit(X1)\n",
    "clustering_model_2 = AgglomerativeClustering(linkage='complete').fit(X2)\n",
    "print(clustering_model_1.labels_)\n",
    "print(clustering_model_2.labels_)"
   ]
  },
  {
   "cell_type": "code",
   "execution_count": 18,
   "metadata": {},
   "outputs": [
    {
     "name": "stdout",
     "output_type": "stream",
     "text": [
      "{0: {'0': 998, '1': 200}, 1: {'0': 2}}\n",
      "0.8333333333333334\n",
      "{0: {'0': 1052, '1': 150}, 1: {'1': 78, '0': 9}}\n",
      "0.8766485647788984\n"
     ]
    }
   ],
   "source": [
    "#ASUMSI labelclust dan label ukuran sama\n",
    "def purity(labelclust, label):\n",
    "    labelmap = {}\n",
    "    summax = 0\n",
    "    for i in range(len(labelclust)):\n",
    "        if labelclust[i] not in labelmap.keys():\n",
    "            labelmap[labelclust[i]] = {}\n",
    "        if label[i] not in labelmap[labelclust[i]].keys():\n",
    "            labelmap[labelclust[i]][label[i]] = 1\n",
    "        else:\n",
    "            labelmap[labelclust[i]][label[i]] += 1\n",
    "    print(labelmap)\n",
    "    for el in labelmap.keys():\n",
    "        summax += max(labelmap[el].values())\n",
    "    return summax/len(labelclust)\n",
    "                \n",
    "print(purity(clustering_model_1.labels_, label1))\n",
    "print(purity(clustering_model_2.labels_, label2))"
   ]
  },
  {
   "cell_type": "code",
   "execution_count": 19,
   "metadata": {},
   "outputs": [
    {
     "name": "stdout",
     "output_type": "stream",
     "text": [
      "{0: {'0': 14, '1': 3}, 1: {'1': 25, '0': 475}, 2: {'0': 9}, -1: {'1': 50, '0': 34}, 3: {'1': 38}, 4: {'0': 14}, 5: {'0': 8}, 6: {'0': 72}, 7: {'0': 120}, 8: {'0': 5}, 9: {'1': 4, '0': 42}, 10: {'0': 23, '1': 5}, 11: {'1': 9, '0': 17}, 12: {'1': 9}, 13: {'0': 23}, 14: {'1': 4, '0': 49}, 15: {'0': 31, '1': 7}, 16: {'1': 39, '0': 19}, 17: {'0': 9}, 18: {'0': 8, '1': 1}, 19: {'1': 6}, 20: {'0': 5}, 21: {'0': 14}, 22: {'0': 9}}\n",
      "0.9075\n",
      "{0: {'0': 14, '1': 4}, 1: {'1': 30, '0': 494}, 2: {'0': 9}, -1: {'1': 61, '0': 48}, 3: {'1': 39}, 4: {'0': 14}, 5: {'0': 8}, 6: {'0': 76}, 7: {'0': 137}, 8: {'0': 5}, 9: {'1': 5, '0': 42}, 10: {'0': 23, '1': 5}, 11: {'1': 9, '0': 18}, 12: {'1': 9}, 13: {'0': 25, '1': 1}, 14: {'1': 4, '0': 52}, 15: {'0': 32, '1': 7}, 16: {'1': 42, '0': 19}, 17: {'0': 9}, 18: {'0': 8, '1': 1}, 19: {'1': 6}, 20: {'0': 5}, 21: {'0': 14}, 22: {'0': 9}, 23: {'1': 5}}\n",
      "0.8968192397207138\n"
     ]
    }
   ],
   "source": [
    "from sklearn.cluster import DBSCAN\n",
    "clustering_DBSCAN_model_1 = DBSCAN().fit(X1)\n",
    "clustering_DBSCAN_model_2 = DBSCAN().fit(X2)\n",
    "print(purity(clustering_DBSCAN_model_1.labels_, label1))\n",
    "print(purity(clustering_DBSCAN_model_2.labels_, label2))"
   ]
  },
  {
   "cell_type": "code",
   "execution_count": null,
   "metadata": {},
   "outputs": [],
   "source": []
  }
 ],
 "metadata": {
  "kernelspec": {
   "display_name": "Python 3",
   "language": "python",
   "name": "python3"
  },
  "language_info": {
   "codemirror_mode": {
    "name": "ipython",
    "version": 3
   },
   "file_extension": ".py",
   "mimetype": "text/x-python",
   "name": "python",
   "nbconvert_exporter": "python",
   "pygments_lexer": "ipython3",
   "version": "3.7.4"
  }
 },
 "nbformat": 4,
 "nbformat_minor": 2
}
